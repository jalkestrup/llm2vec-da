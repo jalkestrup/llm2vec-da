{
 "cells": [
  {
   "cell_type": "markdown",
   "metadata": {},
   "source": [
    "## Not implemented in IPYNB\n",
    "Refer to \n",
    "https://github.com/jalkestrup/llm2vec-dtu/blob/main/experiments/run_supervised.py"
   ]
  },
  {
   "cell_type": "code",
   "execution_count": 1,
   "metadata": {},
   "outputs": [],
   "source": [
    "import torch\n",
    "import transformers\n",
    "from tqdm import tqdm\n",
    "import os\n",
    "from accelerate import Accelerator, DistributedDataParallelKwargs"
   ]
  },
  {
   "cell_type": "code",
   "execution_count": 2,
   "metadata": {},
   "outputs": [
    {
     "data": {
      "application/vnd.jupyter.widget-view+json": {
       "model_id": "554af2ed4a9c423e887bf510f535b76d",
       "version_major": 2,
       "version_minor": 0
      },
      "text/plain": [
       "VBox(children=(HTML(value='<center> <img\\nsrc=https://huggingface.co/front/assets/huggingface_logo-noborder.sv…"
      ]
     },
     "metadata": {},
     "output_type": "display_data"
    }
   ],
   "source": [
    "from huggingface_hub import notebook_login\n",
    "\n",
    "# Handle lighting AI studio\n",
    "if '/teamspace' in os.getcwd():\n",
    "    os.chdir('/teamspace/studios/this_studio/llm2vec-da')\n",
    "    print(os.getcwd())\n",
    "\n",
    "notebook_login()"
   ]
  },
  {
   "cell_type": "code",
   "execution_count": 5,
   "metadata": {},
   "outputs": [],
   "source": [
    "from transformers import HfArgumentParser\n",
    "from llm2vec_da.arguments import SimCSEModelArguments, SimCSEDataTrainingArguments, TrainingArguments, SimCSECustomArguments\n",
    "\n",
    "simcse_parser = HfArgumentParser(\n",
    "        (SimCSEModelArguments, SimCSEDataTrainingArguments, TrainingArguments, SimCSECustomArguments)\n",
    "    )\n",
    "\n",
    "model_args, data_args, training_args, custom_args = simcse_parser.parse_json_file(\n",
    "        \"configs/supervised/MetaLlama3-swe-supervised-dk-curated.json\"\n",
    "    )\n",
    "\n",
    "if training_args.ddp_find_unused_parameters:\n",
    "    kwargs = [\n",
    "        DistributedDataParallelKwargs(\n",
    "            dim=0,\n",
    "            broadcast_buffers=True,\n",
    "            bucket_cap_mb=25,\n",
    "            find_unused_parameters=True,\n",
    "            check_reduction=False,\n",
    "            gradient_as_bucket_view=False,\n",
    "        )\n",
    "    ]\n",
    "else:\n",
    "    kwargs = []\n",
    "\n",
    "accelerator = Accelerator(kwargs_handlers=kwargs)\n",
    "transformers.set_seed(training_args.seed)"
   ]
  },
  {
   "cell_type": "code",
   "execution_count": null,
   "metadata": {},
   "outputs": [],
   "source": []
  }
 ],
 "metadata": {
  "kernelspec": {
   "display_name": "cloudspace",
   "language": "python",
   "name": "python3"
  },
  "language_info": {
   "codemirror_mode": {
    "name": "ipython",
    "version": 3
   },
   "file_extension": ".py",
   "mimetype": "text/x-python",
   "name": "python",
   "nbconvert_exporter": "python",
   "pygments_lexer": "ipython3",
   "version": "3.10.10"
  }
 },
 "nbformat": 4,
 "nbformat_minor": 2
}
