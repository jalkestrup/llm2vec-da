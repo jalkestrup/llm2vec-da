{
 "cells": [
  {
   "cell_type": "code",
   "execution_count": 1,
   "metadata": {},
   "outputs": [
    {
     "data": {
      "text/plain": [
       "True"
      ]
     },
     "execution_count": 1,
     "metadata": {},
     "output_type": "execute_result"
    }
   ],
   "source": [
    "import os\n",
    "from huggingface_hub import HfApi\n",
    "from dotenv import load_dotenv\n",
    "load_dotenv()"
   ]
  },
  {
   "cell_type": "code",
   "execution_count": 4,
   "metadata": {},
   "outputs": [
    {
     "data": {
      "application/vnd.jupyter.widget-view+json": {
       "model_id": "5753ec5d4eee4f7fb7b4e044b2bc0cf3",
       "version_major": 2,
       "version_minor": 0
      },
      "text/plain": [
       "README.md:   0%|          | 0.00/489 [00:00<?, ?B/s]"
      ]
     },
     "metadata": {},
     "output_type": "display_data"
    },
    {
     "data": {
      "application/vnd.jupyter.widget-view+json": {
       "model_id": "00e4f896bd92486f8259eb52ec765be7",
       "version_major": 2,
       "version_minor": 0
      },
      "text/plain": [
       "train-00000-of-00001.parquet:   0%|          | 0.00/51.3M [00:00<?, ?B/s]"
      ]
     },
     "metadata": {},
     "output_type": "display_data"
    },
    {
     "data": {
      "application/vnd.jupyter.widget-view+json": {
       "model_id": "24026adc7efe4dc199cc068c2d6de1f0",
       "version_major": 2,
       "version_minor": 0
      },
      "text/plain": [
       "test-00000-of-00001.parquet:   0%|          | 0.00/38.0M [00:00<?, ?B/s]"
      ]
     },
     "metadata": {},
     "output_type": "display_data"
    },
    {
     "data": {
      "application/vnd.jupyter.widget-view+json": {
       "model_id": "13e899d4857b4587b714887abf38429f",
       "version_major": 2,
       "version_minor": 0
      },
      "text/plain": [
       "Generating train split:   0%|          | 0/93200 [00:00<?, ? examples/s]"
      ]
     },
     "metadata": {},
     "output_type": "display_data"
    },
    {
     "data": {
      "application/vnd.jupyter.widget-view+json": {
       "model_id": "c82d8d1990604116919f4db46f68c281",
       "version_major": 2,
       "version_minor": 0
      },
      "text/plain": [
       "Generating test split:   0%|          | 0/55124 [00:00<?, ? examples/s]"
      ]
     },
     "metadata": {},
     "output_type": "display_data"
    }
   ],
   "source": [
    "#Load huggingface hub dataset from https://huggingface.co/datasets/DDSC/nordic-embedding-training-data\n",
    "\n",
    "from datasets import load_dataset\n",
    "\n",
    "dataset_1 = load_dataset(\"DDSC/nordic-embedding-training-data\",\n",
    "                      split=None,\n",
    "                      token=True)\n",
    "\n",
    "# dataset 2 has a train and a test split, join the test and train split into one dataset\n",
    "dataset_2 = load_dataset(\"jealk/supervised-da\",\n",
    "                        split=None,\n",
    "                        token=True)\n",
    "\n",
    "from datasets import concatenate_datasets\n",
    "\n",
    "#Rename column pos in dataset_2 to positive\n",
    "dataset_2 = dataset_2.rename_column(\"pos\", \"positive\")\n",
    "\n"
   ]
  },
  {
   "cell_type": "code",
   "execution_count": 8,
   "metadata": {},
   "outputs": [
    {
     "data": {
      "text/plain": [
       "148324"
      ]
     },
     "execution_count": 8,
     "metadata": {},
     "output_type": "execute_result"
    }
   ],
   "source": [
    "len(dataset_2[\"train\"])\n",
    "#Combine train and test\n",
    "dataset_2 = concatenate_datasets([dataset_2[\"train\"], dataset_2[\"test\"]])\n",
    "len(dataset_2)\n"
   ]
  },
  {
   "cell_type": "code",
   "execution_count": null,
   "metadata": {},
   "outputs": [
    {
     "data": {
      "application/vnd.jupyter.widget-view+json": {
       "model_id": "13d3f28f1af849bc8d2e1517228534b9",
       "version_major": 2,
       "version_minor": 0
      },
      "text/plain": [
       "Map:   0%|          | 0/148324 [00:00<?, ? examples/s]"
      ]
     },
     "metadata": {},
     "output_type": "display_data"
    },
    {
     "data": {
      "application/vnd.jupyter.widget-view+json": {
       "model_id": "8ed2d8aaca6945ad8c24aba0b59c38a8",
       "version_major": 2,
       "version_minor": 0
      },
      "text/plain": [
       "Filter:   0%|          | 0/148324 [00:00<?, ? examples/s]"
      ]
     },
     "metadata": {},
     "output_type": "display_data"
    },
    {
     "data": {
      "text/plain": [
       "148324"
      ]
     },
     "execution_count": 10,
     "metadata": {},
     "output_type": "execute_result"
    }
   ],
   "source": [
    "#Use map to filter out rows where query or positive is None or empty string\n",
    "dataset_2 = dataset_2.map(lambda x: {\"query\": x[\"query\"], \"positive\": x[\"positive\"]} if x[\"query\"] is not None and x[\"positive\"] is not None else None)\n",
    "\n",
    "#Drop None values\n",
    "dataset_2 = dataset_2.filter(lambda x: x is not None)\n",
    "\n",
    "len(dataset_2)"
   ]
  },
  {
   "cell_type": "code",
   "execution_count": null,
   "metadata": {},
   "outputs": [
    {
     "data": {
      "application/vnd.jupyter.widget-view+json": {
       "model_id": "30e40fa492ff451da5f00ce81a1f77d2",
       "version_major": 2,
       "version_minor": 0
      },
      "text/plain": [
       "Filter:   0%|          | 0/148324 [00:00<?, ? examples/s]"
      ]
     },
     "metadata": {},
     "output_type": "display_data"
    },
    {
     "data": {
      "text/plain": [
       "140136"
      ]
     },
     "execution_count": 12,
     "metadata": {},
     "output_type": "execute_result"
    }
   ],
   "source": [
    "#Drop all rows where positive is an empty string\n",
    "dataset_2 = dataset_2.filter(lambda x: x[\"positive\"] != \"\")\n",
    "\n",
    "len(dataset_2)"
   ]
  },
  {
   "cell_type": "code",
   "execution_count": 13,
   "metadata": {},
   "outputs": [
    {
     "data": {
      "application/vnd.jupyter.widget-view+json": {
       "model_id": "d1b4c36fd57a4874a5ab41e05c2e03fb",
       "version_major": 2,
       "version_minor": 0
      },
      "text/plain": [
       "Map:   0%|          | 0/140136 [00:00<?, ? examples/s]"
      ]
     },
     "metadata": {},
     "output_type": "display_data"
    }
   ],
   "source": [
    "#https://huggingface.co/datasets/jealk/supervised-da\n",
    "#Add a column called 'instructions'\n",
    "#For all rows with dataset_name = wiki_queries_gemma, set instructions to 'Given the title of a wikipedia article, return the article's content'\n",
    "#for all rows with dataset_name = news , set instructions to \"Given the title of a news article, return the article's content\n",
    "#for all rows with dataset_name = europarl, set instruction to \"Given a paragraph in from the european parliament in Swedish, return the paragraph in Danish\"\n",
    "#for all rows with dataset_name = opensubtitles_da_no, set instruction to \"Given a sentence in Norwegian, return the sentence in Danish\"\n",
    "#For all rows with dataset_name = wiki_qa, set instruction to \"Given a question, return the answer\"\n",
    "#For all rows with dataset_name = folketinget, set instruction to \"Given a statement from the Danish parliament, return the reply from another member of the parliament\"\n",
    "#For all rows with dataset_name = hestenet, set instructions to \"Given a post on a forum, return the response from the other users\"\n",
    "\n",
    "dataset_name_to_instructions = {\n",
    "    \"wiki_queries_gemma\": \"Given the title of a wikipedia article, return the article's content\",\n",
    "    \"news\": \"Given the title of a news article, return the article's content\",\n",
    "    \"europarl\": \"Given a paragraph in from the european parliament in Swedish, return the paragraph in Danish\",\n",
    "    \"opensubtitles_da_no\": \"Given a sentence in Norwegian, return the sentence in Danish\",\n",
    "    \"wiki_qa\": \"Given a question, return the answer\",\n",
    "    \"folketinget\": \"Given a statement from the Danish parliament, return the reply from another member of the parliament\",\n",
    "    \"hestenet\": \"Given a post on a forum, return the response from the other users\"\n",
    "}\n",
    "\n",
    "#Use map to add the instructions column\n",
    "dataset_2 = dataset_2.map(lambda x: {\"instructions\": dataset_name_to_instructions[x[\"dataset_name\"]]})\n"
   ]
  },
  {
   "cell_type": "code",
   "execution_count": 15,
   "metadata": {},
   "outputs": [
    {
     "data": {
      "application/vnd.jupyter.widget-view+json": {
       "model_id": "00b91388d39a4d67bb71426def00f280",
       "version_major": 2,
       "version_minor": 0
      },
      "text/plain": [
       "Map:   0%|          | 0/140136 [00:00<?, ? examples/s]"
      ]
     },
     "metadata": {},
     "output_type": "display_data"
    }
   ],
   "source": [
    "#Add a new column called 'language' set it to danish for all\n",
    "dataset_2 = dataset_2.map(lambda x: {\"language\": \"danish\"})"
   ]
  },
  {
   "cell_type": "code",
   "execution_count": null,
   "metadata": {},
   "outputs": [],
   "source": []
  }
 ],
 "metadata": {
  "kernelspec": {
   "display_name": "dtudeep",
   "language": "python",
   "name": "python3"
  },
  "language_info": {
   "codemirror_mode": {
    "name": "ipython",
    "version": 3
   },
   "file_extension": ".py",
   "mimetype": "text/x-python",
   "name": "python",
   "nbconvert_exporter": "python",
   "pygments_lexer": "ipython3",
   "version": "3.11.10"
  }
 },
 "nbformat": 4,
 "nbformat_minor": 2
}
